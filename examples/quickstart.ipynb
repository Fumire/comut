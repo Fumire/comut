{
 "cells": [
  {
   "cell_type": "code",
   "execution_count": 1,
   "metadata": {
    "colab": {
     "base_uri": "https://localhost:8080/",
     "height": 70
    },
    "colab_type": "code",
    "id": "U9UlZOvJm8_4",
    "outputId": "27569d23-5c67-4927-8f00-b3abe5dad5e8"
   },
   "outputs": [],
   "source": [
    "# install CoMut and packages - DO NOT CHANGE THIS CELL\n",
    "# some errors will appear if running in Colab - they can be ignored\n",
    "!pip -q install comut\n",
    "from comut import comut\n",
    "from comut import fileparsers\n",
    "import palettable\n",
    "import pandas as pd\n",
    "import matplotlib.pyplot as plt\n",
    "\n",
    "# if running in Colab, import tutorial data\n",
    "import sys\n",
    "if 'google.colab' in sys.modules:\n",
    "  !apt-get install subversion -q > /dev/null\n",
    "  !svn export -q https://github.com/vanallenlab/comut/trunk/examples/tutorial_data"
   ]
  },
  {
   "cell_type": "markdown",
   "metadata": {
    "colab_type": "text",
    "id": "yqLiabYfdeYI"
   },
   "source": [
    "# Quickstart\n",
    "\n",
    "This notebook contains easily editable code to generate basic comutation plots with CoMut.\n",
    "\n",
    "# Specify MAF file and generate comut\n",
    "\n",
    "To make a basic comut of just mutation data, simply change the path below to your MAF file. You can then specify optional parameters to change the comut's appearance (see below). Then click `Run -> Run All`, and the comut will be saved as `mutation_comut` with your file extension. \n",
    "\n",
    "__Google Colab__: For users viewing this notebook in Google Colab, you need to upload your MAF file to this notebook. To do so, click the folder icon to the left to open the files menu. Drag and drop your MAF file from your computer into this area - it should upload to google drive. You can then specify the path to your MAF as normal. When the notebook is run, you can download your comut by right clicking in the files menu."
   ]
  },
  {
   "cell_type": "code",
   "execution_count": 2,
   "metadata": {
    "colab": {},
    "colab_type": "code",
    "id": "Yzdn6CypgTas"
   },
   "outputs": [],
   "source": [
    "maf_path = 'tutorial_data/melanoma_example/melanoma.maf' # change this to the path of your MAF\n",
    "genes = ['CDKN2A', 'TP53', 'NF1', 'NRAS', 'BRAF']"
   ]
  },
  {
   "cell_type": "markdown",
   "metadata": {
    "colab_type": "text",
    "id": "lO0wv7t0f3OE"
   },
   "source": [
    "# Optional parameters\n",
    "\n",
    "These parameters change the appearance of the comut. Change nothing to use the defaults. For more information on these parameters, visit the [documentation](https://github.com/vanallenlab/comut/blob/package/examples/documentation.ipynb) of CoMut."
   ]
  },
  {
   "cell_type": "code",
   "execution_count": 3,
   "metadata": {
    "colab": {},
    "colab_type": "code",
    "id": "aBGK9YkAjHMh"
   },
   "outputs": [],
   "source": [
    "figsize = (10,3) # the size of the figure - changes the shape of the squares in the comut\n",
    "dpi = 300 # change the output resolution\n",
    "extension = '.svg' # extension for saving - can otherwise be .pdf or .png\n",
    "\n",
    "# You can provide a list of samples to order your comut (from left to right). If none is provided, it will be calculated from your MAF.\n",
    "samples = None\n",
    "\n",
    "x_padding = 0.04 # the x distance between patches in comut\n",
    "y_padding = 0.04 # the y distance between patches in comut\n",
    "tri_padding = 0.03 # the distance between triangles in comut\n",
    "\n",
    "# define the mapping of mutation type to color. Only these mutation types are shown\n",
    "vivid_10 = palettable.cartocolors.qualitative.Vivid_10.mpl_colors\n",
    "mut_mapping = {'Missense': vivid_10[5], 'Nonsense': vivid_10[0], 'In frame indel': vivid_10[1],\n",
    "               'Frameshift indel': vivid_10[4], 'Splice site': vivid_10[9]}"
   ]
  },
  {
   "cell_type": "markdown",
   "metadata": {
    "colab_type": "text",
    "id": "bUsF36SJpq1S"
   },
   "source": [
    "# Creating the basic comut"
   ]
  },
  {
   "cell_type": "markdown",
   "metadata": {
    "colab_type": "text",
    "id": "CQGnRGuzpdg9"
   },
   "source": [
    "First we create the CoMut object and define the samples (if samples weren't defined, it will take them from the MAF)."
   ]
  },
  {
   "cell_type": "code",
   "execution_count": 4,
   "metadata": {
    "colab": {},
    "colab_type": "code",
    "id": "sOoKG72Aj3mq"
   },
   "outputs": [],
   "source": [
    "example_comut = comut.CoMut()\n",
    "example_comut.samples = samples"
   ]
  },
  {
   "cell_type": "markdown",
   "metadata": {
    "colab_type": "text",
    "id": "h6C-3q7apgFm"
   },
   "source": [
    "Then we read in the MAF and subset it to nonsilent mutations"
   ]
  },
  {
   "cell_type": "code",
   "execution_count": 5,
   "metadata": {
    "colab": {
     "base_uri": "https://localhost:8080/",
     "height": 460
    },
    "colab_type": "code",
    "id": "7_SpteymddSY",
    "outputId": "1e527d27-5f7a-4c6d-8b07-173f67b7d384"
   },
   "outputs": [
    {
     "data": {
      "text/html": [
       "<div>\n",
       "<style scoped>\n",
       "    .dataframe tbody tr th:only-of-type {\n",
       "        vertical-align: middle;\n",
       "    }\n",
       "\n",
       "    .dataframe tbody tr th {\n",
       "        vertical-align: top;\n",
       "    }\n",
       "\n",
       "    .dataframe thead th {\n",
       "        text-align: right;\n",
       "    }\n",
       "</style>\n",
       "<table border=\"1\" class=\"dataframe\">\n",
       "  <thead>\n",
       "    <tr style=\"text-align: right;\">\n",
       "      <th></th>\n",
       "      <th>sample</th>\n",
       "      <th>category</th>\n",
       "      <th>value</th>\n",
       "    </tr>\n",
       "  </thead>\n",
       "  <tbody>\n",
       "    <tr>\n",
       "      <th>1</th>\n",
       "      <td>Patient10</td>\n",
       "      <td>RFX6</td>\n",
       "      <td>Missense</td>\n",
       "    </tr>\n",
       "    <tr>\n",
       "      <th>2</th>\n",
       "      <td>Patient10</td>\n",
       "      <td>PTPRQ</td>\n",
       "      <td>Missense</td>\n",
       "    </tr>\n",
       "  </tbody>\n",
       "</table>\n",
       "</div>"
      ],
      "text/plain": [
       "      sample category     value\n",
       "1  Patient10     RFX6  Missense\n",
       "2  Patient10    PTPRQ  Missense"
      ]
     },
     "execution_count": 5,
     "metadata": {},
     "output_type": "execute_result"
    }
   ],
   "source": [
    "# read in the maf\n",
    "mutation_data = pd.read_csv(maf_path, sep = '\\t')\n",
    "\n",
    "# parse the maf. This will subset to nonsilent mutations and rename columns to what CoMut expects\n",
    "mutation_df = fileparsers.parse_maf(mutation_data)\n",
    "mutation_df.head(2)"
   ]
  },
  {
   "cell_type": "markdown",
   "metadata": {
    "colab_type": "text",
    "id": "5odqqHj-pnCH"
   },
   "source": [
    "Then we add the mutation data to the CoMut object and plot it, saving the figure"
   ]
  },
  {
   "cell_type": "code",
   "execution_count": 6,
   "metadata": {
    "colab": {},
    "colab_type": "code",
    "id": "CArL-sFHpvca"
   },
   "outputs": [
    {
     "data": {
      "text/plain": [
       "<matplotlib.legend.Legend at 0x125be2208>"
      ]
     },
     "execution_count": 6,
     "metadata": {},
     "output_type": "execute_result"
    },
    {
     "data": {
      "image/png": "[encoded data removed]",
      "text/plain": [
       "<Figure size 720x216 with 1 Axes>"
      ]
     },
     "metadata": {
      "needs_background": "light"
     },
     "output_type": "display_data"
    }
   ],
   "source": [
    "# add data to the CoMut object\n",
    "example_comut.add_categorical_data(mutation_df, name = 'Mutation type', category_order = genes, mapping = mut_mapping, tick_style = 'italic')\n",
    "\n",
    "# plot comut and add unified legend\n",
    "example_comut.plot_comut(x_padding = x_padding, y_padding = y_padding, tri_padding = tri_padding, figsize = figsize)\n",
    "example_comut.add_unified_legend()"
   ]
  },
  {
   "cell_type": "markdown",
   "metadata": {
    "colab_type": "text",
    "id": "zJW4IK6Vs2XB"
   },
   "source": [
    "Then the comut can be saved. An svg is often desirable because it is infinitely scaleable (as you zoom in, resolution does not decrease)."
   ]
  },
  {
   "cell_type": "code",
   "execution_count": 7,
   "metadata": {
    "colab": {},
    "colab_type": "code",
    "id": "fKd29rZgqiRY"
   },
   "outputs": [],
   "source": [
    "example_comut.figure.savefig('mutation_comut' + extension, dpi = dpi, bbox_inches = 'tight')"
   ]
  },
  {
   "cell_type": "markdown",
   "metadata": {
    "colab_type": "text",
    "id": "mOViVVLwOfbQ"
   },
   "source": [
    "# Adding clinical data\n",
    "\n",
    "The example below adds two rows of clinical data to the comut - purity (a continuous variable) and primary type (a categorical variable). Should you wish to add more clinical data, simply mirror the current code and add more data with `comut.add_continuous_data` or `comut.add_categorical_data`\n",
    "\n",
    "First we read in the data as dataframes:"
   ]
  },
  {
   "cell_type": "code",
   "execution_count": 8,
   "metadata": {
    "colab": {},
    "colab_type": "code",
    "id": "s8vhottTOfws"
   },
   "outputs": [
    {
     "data": {
      "text/html": [
       "<div>\n",
       "<style scoped>\n",
       "    .dataframe tbody tr th:only-of-type {\n",
       "        vertical-align: middle;\n",
       "    }\n",
       "\n",
       "    .dataframe tbody tr th {\n",
       "        vertical-align: top;\n",
       "    }\n",
       "\n",
       "    .dataframe thead th {\n",
       "        text-align: right;\n",
       "    }\n",
       "</style>\n",
       "<table border=\"1\" class=\"dataframe\">\n",
       "  <thead>\n",
       "    <tr style=\"text-align: right;\">\n",
       "      <th></th>\n",
       "      <th>sample</th>\n",
       "      <th>category</th>\n",
       "      <th>value</th>\n",
       "    </tr>\n",
       "  </thead>\n",
       "  <tbody>\n",
       "    <tr>\n",
       "      <th>0</th>\n",
       "      <td>Patient41</td>\n",
       "      <td>Purity</td>\n",
       "      <td>0.7</td>\n",
       "    </tr>\n",
       "    <tr>\n",
       "      <th>1</th>\n",
       "      <td>Patient62</td>\n",
       "      <td>Purity</td>\n",
       "      <td>0.5</td>\n",
       "    </tr>\n",
       "  </tbody>\n",
       "</table>\n",
       "</div>"
      ],
      "text/plain": [
       "      sample category  value\n",
       "0  Patient41   Purity    0.7\n",
       "1  Patient62   Purity    0.5"
      ]
     },
     "execution_count": 8,
     "metadata": {},
     "output_type": "execute_result"
    }
   ],
   "source": [
    "purity_data = pd.read_csv('tutorial_data/melanoma_example/purity.tsv', sep = '\\t') # the path to the purity data\n",
    "purity_data.head(2)"
   ]
  },
  {
   "cell_type": "code",
   "execution_count": 9,
   "metadata": {
    "colab": {},
    "colab_type": "code",
    "id": "jzmqXZr5Oozm"
   },
   "outputs": [
    {
     "data": {
      "text/html": [
       "<div>\n",
       "<style scoped>\n",
       "    .dataframe tbody tr th:only-of-type {\n",
       "        vertical-align: middle;\n",
       "    }\n",
       "\n",
       "    .dataframe tbody tr th {\n",
       "        vertical-align: top;\n",
       "    }\n",
       "\n",
       "    .dataframe thead th {\n",
       "        text-align: right;\n",
       "    }\n",
       "</style>\n",
       "<table border=\"1\" class=\"dataframe\">\n",
       "  <thead>\n",
       "    <tr style=\"text-align: right;\">\n",
       "      <th></th>\n",
       "      <th>sample</th>\n",
       "      <th>category</th>\n",
       "      <th>value</th>\n",
       "    </tr>\n",
       "  </thead>\n",
       "  <tbody>\n",
       "    <tr>\n",
       "      <th>0</th>\n",
       "      <td>Patient41</td>\n",
       "      <td>Primary type</td>\n",
       "      <td>Skin</td>\n",
       "    </tr>\n",
       "    <tr>\n",
       "      <th>1</th>\n",
       "      <td>Patient62</td>\n",
       "      <td>Primary type</td>\n",
       "      <td>Skin</td>\n",
       "    </tr>\n",
       "  </tbody>\n",
       "</table>\n",
       "</div>"
      ],
      "text/plain": [
       "      sample      category value\n",
       "0  Patient41  Primary type  Skin\n",
       "1  Patient62  Primary type  Skin"
      ]
     },
     "execution_count": 9,
     "metadata": {},
     "output_type": "execute_result"
    }
   ],
   "source": [
    "primary_type_data = pd.read_csv('tutorial_data/melanoma_example/primary_type.tsv', sep = '\\t') # path to primary type data\n",
    "primary_type_data.head(2)"
   ]
  },
  {
   "cell_type": "markdown",
   "metadata": {
    "colab_type": "text",
    "id": "uhN10unMO8PX"
   },
   "source": [
    "Then we define color mappings for purity and primary type that define how they appear in the comut:"
   ]
  },
  {
   "cell_type": "code",
   "execution_count": 10,
   "metadata": {
    "colab": {},
    "colab_type": "code",
    "id": "91BhWehPOvR8"
   },
   "outputs": [],
   "source": [
    "# a color map is required for continuous values\n",
    "purp_7 = palettable.cartocolors.sequential.Purp_7.mpl_colormap\n",
    "primary_type_mapping = {'Skin':vivid_10[6], 'Acral': vivid_10[2], 'Occult': vivid_10[-1], 'Mucosal': vivid_10[4]}"
   ]
  },
  {
   "cell_type": "markdown",
   "metadata": {
    "colab_type": "text",
    "id": "p0cAnMkOO-gn"
   },
   "source": [
    "Then we add the clinical data to the CoMut object and plot it"
   ]
  },
  {
   "cell_type": "code",
   "execution_count": 11,
   "metadata": {
    "colab": {},
    "colab_type": "code",
    "id": "nYvgEl5kO5-K"
   },
   "outputs": [
    {
     "data": {
      "image/png": "[encoded data removed]",
      "text/plain": [
       "<Figure size 720x216 with 3 Axes>"
      ]
     },
     "metadata": {
      "needs_background": "light"
     },
     "output_type": "display_data"
    }
   ],
   "source": [
    "example_comut.add_continuous_data(purity_data, name = 'Purity',  mapping = purp_7)\n",
    "example_comut.add_categorical_data(primary_type_data, name='Primary type', mapping = primary_type_mapping)\n",
    "\n",
    "# plot CoMut and save\n",
    "example_comut.plot_comut(x_padding = x_padding, y_padding = y_padding, tri_padding = tri_padding, hspace = 0.03, figsize = figsize)\n",
    "example_comut.add_unified_legend()\n",
    "example_comut.figure.savefig('mutation_comut_clinical' + extension, bbox_inches = 'tight', dpi = dpi)"
   ]
  },
  {
   "cell_type": "markdown",
   "metadata": {
    "colab_type": "text",
    "id": "aLm7n1R6PE_C"
   },
   "source": [
    "# Adding a Bar Graph\n",
    "\n",
    "The example below continues and adds a bar graph on top of the comut\n",
    "\n",
    "First we read in the data as a dataframe:"
   ]
  },
  {
   "cell_type": "code",
   "execution_count": 12,
   "metadata": {
    "colab": {},
    "colab_type": "code",
    "id": "tYZvB1B-PAmR"
   },
   "outputs": [
    {
     "data": {
      "text/html": [
       "<div>\n",
       "<style scoped>\n",
       "    .dataframe tbody tr th:only-of-type {\n",
       "        vertical-align: middle;\n",
       "    }\n",
       "\n",
       "    .dataframe tbody tr th {\n",
       "        vertical-align: top;\n",
       "    }\n",
       "\n",
       "    .dataframe thead th {\n",
       "        text-align: right;\n",
       "    }\n",
       "</style>\n",
       "<table border=\"1\" class=\"dataframe\">\n",
       "  <thead>\n",
       "    <tr style=\"text-align: right;\">\n",
       "      <th></th>\n",
       "      <th>sample</th>\n",
       "      <th>Clonal</th>\n",
       "      <th>Subclonal</th>\n",
       "    </tr>\n",
       "  </thead>\n",
       "  <tbody>\n",
       "    <tr>\n",
       "      <th>0</th>\n",
       "      <td>Patient41</td>\n",
       "      <td>8924</td>\n",
       "      <td>662</td>\n",
       "    </tr>\n",
       "    <tr>\n",
       "      <th>1</th>\n",
       "      <td>Patient62</td>\n",
       "      <td>5401</td>\n",
       "      <td>203</td>\n",
       "    </tr>\n",
       "  </tbody>\n",
       "</table>\n",
       "</div>"
      ],
      "text/plain": [
       "      sample  Clonal  Subclonal\n",
       "0  Patient41    8924        662\n",
       "1  Patient62    5401        203"
      ]
     },
     "execution_count": 12,
     "metadata": {},
     "output_type": "execute_result"
    }
   ],
   "source": [
    "mut_burden_data = pd.read_csv('tutorial_data/melanoma_example/mutational_burden.tsv', sep = '\\t')\n",
    "mut_burden_data.head(2)"
   ]
  },
  {
   "cell_type": "markdown",
   "metadata": {
    "colab_type": "text",
    "id": "gFUh4ZetPLOA"
   },
   "source": [
    "Then we define a mapping for how the categories should appear in the comut:"
   ]
  },
  {
   "cell_type": "code",
   "execution_count": 13,
   "metadata": {
    "colab": {},
    "colab_type": "code",
    "id": "CDVJfUYxPJIZ"
   },
   "outputs": [],
   "source": [
    "burden_mapping = {'Clonal':vivid_10[8], 'Subclonal':purp_7(0.5)}"
   ]
  },
  {
   "cell_type": "markdown",
   "metadata": {
    "colab_type": "text",
    "id": "x-VmuxPCPPP6"
   },
   "source": [
    "Then we add the data to the CoMut object and plot it:"
   ]
  },
  {
   "cell_type": "code",
   "execution_count": 14,
   "metadata": {
    "colab": {},
    "colab_type": "code",
    "id": "yv6J0gEnPNXR"
   },
   "outputs": [
    {
     "data": {
      "image/png": "[encoded data removed]",
      "text/plain": [
       "<Figure size 720x216 with 4 Axes>"
      ]
     },
     "metadata": {
      "needs_background": "light"
     },
     "output_type": "display_data"
    }
   ],
   "source": [
    "example_comut.add_bar_data(mut_burden_data, name = 'Mutation clonality', mapping = burden_mapping, stacked = True, \n",
    "                            ylabel = 'Nonsyn.\\nMutations')\n",
    "\n",
    "# plot CoMut\n",
    "example_comut.plot_comut(x_padding = x_padding, y_padding = y_padding, tri_padding = tri_padding, hspace = 0.03, figsize = figsize)\n",
    "example_comut.add_unified_legend(axis_name = 'Mutation clonality', ncol = 2)\n",
    "example_comut.figure.savefig('mutation_comut_clinical_bar' + extension, bbox_inches = 'tight', dpi = dpi)"
   ]
  },
  {
   "cell_type": "markdown",
   "metadata": {
    "colab_type": "text",
    "id": "QFy73DgGPSuw"
   },
   "source": [
    "# Adding a Side Bar Graph\n",
    "\n",
    "We continue the example by adding a side bar indicating the number of samples mutated in a gene. First we read in the data:"
   ]
  },
  {
   "cell_type": "code",
   "execution_count": 15,
   "metadata": {
    "colab": {},
    "colab_type": "code",
    "id": "IgWCCkz-PQYZ"
   },
   "outputs": [
    {
     "data": {
      "text/html": [
       "<div>\n",
       "<style scoped>\n",
       "    .dataframe tbody tr th:only-of-type {\n",
       "        vertical-align: middle;\n",
       "    }\n",
       "\n",
       "    .dataframe tbody tr th {\n",
       "        vertical-align: top;\n",
       "    }\n",
       "\n",
       "    .dataframe thead th {\n",
       "        text-align: right;\n",
       "    }\n",
       "</style>\n",
       "<table border=\"1\" class=\"dataframe\">\n",
       "  <thead>\n",
       "    <tr style=\"text-align: right;\">\n",
       "      <th></th>\n",
       "      <th>category</th>\n",
       "      <th>Mutated samples</th>\n",
       "    </tr>\n",
       "  </thead>\n",
       "  <tbody>\n",
       "    <tr>\n",
       "      <th>0</th>\n",
       "      <td>BRAF</td>\n",
       "      <td>22</td>\n",
       "    </tr>\n",
       "    <tr>\n",
       "      <th>1</th>\n",
       "      <td>NRAS</td>\n",
       "      <td>21</td>\n",
       "    </tr>\n",
       "  </tbody>\n",
       "</table>\n",
       "</div>"
      ],
      "text/plain": [
       "  category  Mutated samples\n",
       "0     BRAF               22\n",
       "1     NRAS               21"
      ]
     },
     "execution_count": 15,
     "metadata": {},
     "output_type": "execute_result"
    }
   ],
   "source": [
    "mut_freq = pd.read_csv('tutorial_data/melanoma_example/mutation_frequency.tsv', sep = '\\t')\n",
    "mut_freq.head(2)"
   ]
  },
  {
   "cell_type": "markdown",
   "metadata": {
    "colab_type": "text",
    "id": "iYUUYLWNPW-l"
   },
   "source": [
    "Then we define a mapping for how the side bar graph should appear in the comut:"
   ]
  },
  {
   "cell_type": "code",
   "execution_count": 16,
   "metadata": {
    "colab": {},
    "colab_type": "code",
    "id": "pCqJz2yjPT2N"
   },
   "outputs": [],
   "source": [
    "side_mapping = {'Mutated samples': 'darkgrey'}"
   ]
  },
  {
   "cell_type": "markdown",
   "metadata": {
    "colab_type": "text",
    "id": "2hgTJsT2Pabj"
   },
   "source": [
    "Then we add the data to the comut and plot it:"
   ]
  },
  {
   "cell_type": "code",
   "execution_count": 17,
   "metadata": {
    "colab": {},
    "colab_type": "code",
    "id": "1PvwIOGBPZm1"
   },
   "outputs": [
    {
     "data": {
      "image/png": "[encoded data removed]",
      "text/plain": [
       "<Figure size 720x216 with 5 Axes>"
      ]
     },
     "metadata": {
      "needs_background": "light"
     },
     "output_type": "display_data"
    }
   ],
   "source": [
    "example_comut.add_side_bar_data(mut_freq, paired_name = 'Mutation type', name = 'Mutated samples', position = 'left', \n",
    "                                mapping = side_mapping, xlabel = 'Mutated samples')\n",
    "\n",
    "# plot comut and save\n",
    "example_comut.plot_comut(x_padding = x_padding, y_padding = y_padding, tri_padding = tri_padding, hspace = 0.03, figsize = figsize, widths = [0.5, 5])\n",
    "example_comut.add_unified_legend(axis_name = 'Mutation clonality', ncol = 2)\n",
    "example_comut.figure.savefig('mutation_comut_clinical_bar_side' + extension, bbox_inches = 'tight', dpi = dpi)"
   ]
  }
 ],
 "metadata": {
  "colab": {
   "collapsed_sections": [],
   "name": "Untitled4.ipynb",
   "provenance": []
  },
  "kernelspec": {
   "display_name": "Python 3",
   "language": "python",
   "name": "python3"
  },
  "language_info": {
   "codemirror_mode": {
    "name": "ipython",
    "version": 3
   },
   "file_extension": ".py",
   "mimetype": "text/x-python",
   "name": "python",
   "nbconvert_exporter": "python",
   "pygments_lexer": "ipython3",
   "version": "3.7.3"
  }
 },
 "nbformat": 4,
 "nbformat_minor": 4
}
